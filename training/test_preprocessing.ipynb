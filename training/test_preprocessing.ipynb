{
  "nbformat": 4,
  "nbformat_minor": 0,
  "metadata": {
    "colab": {
      "provenance": []
    },
    "kernelspec": {
      "name": "python3",
      "display_name": "Python 3"
    },
    "language_info": {
      "name": "python"
    }
  },
  "cells": [
    {
      "cell_type": "code",
      "source": [
        "!pip install mediapipe opencv-python"
      ],
      "metadata": {
        "id": "5LbZdo2nu5WZ"
      },
      "execution_count": null,
      "outputs": []
    },
    {
      "cell_type": "code",
      "execution_count": null,
      "metadata": {
        "id": "zcoaWfKCuzdy"
      },
      "outputs": [],
      "source": [
        "import cv2\n",
        "import numpy as np\n",
        "import mediapipe as mp\n",
        "import matplotlib.pyplot as plt\n",
        "import os\n",
        "from google.colab import drive\n",
        "from scipy.special import comb\n"
      ]
    },
    {
      "cell_type": "code",
      "source": [
        "drive.mount('/content/drive',force_remount=True)"
      ],
      "metadata": {
        "id": "Tto-WBypu0G6"
      },
      "execution_count": null,
      "outputs": []
    },
    {
      "cell_type": "code",
      "source": [
        "mp_hands = mp.solutions.hands\n",
        "mp_drawing = mp.solutions.drawing_utils"
      ],
      "metadata": {
        "id": "MTAqj-pWywce"
      },
      "execution_count": null,
      "outputs": []
    },
    {
      "cell_type": "code",
      "source": [
        "def bernstein_poly(i, n, t):\n",
        "    \"\"\"The Bernstein polynomial of n, i as a function of t.\"\"\"\n",
        "    return comb(n, i) * (t ** (n - i)) * (1 - t) ** i\n",
        "\n",
        "def bezier_curve(points, nTimes=1000):\n",
        "    \"\"\"\n",
        "    Generate Bezier curves from control points.\n",
        "    nTimes is the number of time steps.\n",
        "    \"\"\"\n",
        "    nPoints = len(points)\n",
        "    xPoints = np.array([p[0] for p in points])\n",
        "    yPoints = np.array([p[1] for p in points])\n",
        "\n",
        "    t = np.linspace(0.0, 1.0, nTimes)\n",
        "    polynomial_array = np.array([bernstein_poly(i, nPoints - 1, t) for i in range(0, nPoints)])\n",
        "\n",
        "    xvals = np.dot(xPoints, polynomial_array)\n",
        "    yvals = np.dot(yPoints, polynomial_array)\n",
        "\n",
        "    return list(zip(xvals.astype(int), yvals.astype(int)))\n",
        "\n",
        "def expand_polygon(points, expansion=10):\n",
        "    # Simplified version just for demonstration\n",
        "    if len(points) < 2:\n",
        "        return points\n",
        "    expanded_polygon = []\n",
        "    for i in range(len(points) - 1):\n",
        "        p1 = np.array(points[i])\n",
        "        p2 = np.array(points[i + 1])\n",
        "        vector = p2 - p1\n",
        "        perpendicular = np.array([-vector[1], vector[0]])\n",
        "        perpendicular = perpendicular / np.linalg.norm(perpendicular) * expansion\n",
        "        expanded_polygon.append((p1 - perpendicular).astype(int))\n",
        "        expanded_polygon.append((p1 + perpendicular).astype(int))\n",
        "    p2 = points[-1]\n",
        "    expanded_polygon.append((p2 - perpendicular).astype(int))\n",
        "    expanded_polygon.append((p2 + perpendicular).astype(int))\n",
        "    return expanded_polygon"
      ],
      "metadata": {
        "id": "SYM2CnUJ2as3"
      },
      "execution_count": null,
      "outputs": []
    },
    {
      "cell_type": "code",
      "source": [
        "def process_image(image):\n",
        "    # Convert image to RGB\n",
        "    image = cv2.cvtColor(image, cv2.COLOR_BGR2RGB)\n",
        "\n",
        "    # Initialize MediaPipe Hands\n",
        "    with mp_hands.Hands(static_image_mode=True, max_num_hands=1, min_detection_confidence=0.5) as hands:\n",
        "        results = hands.process(image)\n",
        "\n",
        "        if results.multi_hand_landmarks:\n",
        "            hand_landmarks = results.multi_hand_landmarks[0]\n",
        "\n",
        "            h, w, _ = image.shape\n",
        "            x_min = int(min([lm.x for lm in hand_landmarks.landmark]) * w)\n",
        "            x_max = int(max([lm.x for lm in hand_landmarks.landmark]) * w)\n",
        "            y_min = int(min([lm.y for lm in hand_landmarks.landmark]) * h)\n",
        "            y_max = int(max([lm.y for lm in hand_landmarks.landmark]) * h)\n",
        "\n",
        "            cropped_image = image[y_min:y_max, x_min:x_max]\n",
        "            cropped_image = cv2.resize(cropped_image, (256, 256))\n",
        "\n",
        "            # Create a single-channel mask\n",
        "            mask = np.zeros(cropped_image.shape[:2], dtype=np.uint8)\n",
        "\n",
        "            # Convert single-channel mask to BGR\n",
        "            mask_bgr = cv2.cvtColor(mask, cv2.COLOR_GRAY2BGR)\n",
        "\n",
        "            # Draw landmarks on the BGR mask\n",
        "            print(mp_hands.HAND_CONNECTIONS)\n",
        "            test = []\n",
        "            for conn in mp_hands.HAND_CONNECTIONS:\n",
        "              if 0 in conn:\n",
        "                continue\n",
        "              test.append(conn)\n",
        "            mp_drawing.draw_landmarks(\n",
        "                mask_bgr,\n",
        "                hand_landmarks,\n",
        "                test,\n",
        "                mp_drawing.DrawingSpec(color=(255, 255, 255), thickness=1, circle_radius=2),\n",
        "                mp_drawing.DrawingSpec(color=(255, 255, 255), thickness=4)\n",
        "            )\n",
        "\n",
        "            landmarks = [lm for lm in hand_landmarks.landmark]\n",
        "            adjusted_landmarks = [(int(lm.x * 256), int(lm.y * 256)) for lm in landmarks]\n",
        "            palm = [adjusted_landmarks[i] for i in [0, 2, 5, 9, 13, 17]]\n",
        "            p = expand_polygon(palm)\n",
        "            cv2.fillPoly(mask_bgr, [np.array(p, dtype=np.int32)], 255)\n",
        "\n",
        "\n",
        "            # Extract the single-channel mask from BGR mask\n",
        "            mask = cv2.cvtColor(mask_bgr, cv2.COLOR_BGR2GRAY)\n",
        "\n",
        "            kernel = np.ones((15, 15), np.uint8)\n",
        "            mask = cv2.dilate(mask, kernel, iterations=1)\n",
        "\n",
        "            # Create a complete black and white image where the hand is white\n",
        "            # hand_image = np.zeros_like(cropped_image)\n",
        "            hand_image = np.zeros(cropped_image.shape[:2], dtype=np.uint8)  # Note change here: shape and dtype\n",
        "\n",
        "            hand_image[mask > 0] = 255  # All channels to 255 where mask is white\n",
        "    # Display the processed hand image\n",
        "            plt.figure(figsize=(3, 3))\n",
        "            plt.imshow(hand_image, cmap='gray')  # Ensure it is displayed as grayscale\n",
        "            plt.title(f\"Processed Image\")\n",
        "            plt.axis('off')\n",
        "            plt.show()\n",
        "            return hand_image\n",
        "\n",
        "        else:\n",
        "            print(\"no hand\")\n",
        "            return None"
      ],
      "metadata": {
        "id": "PNGs5wvPu1b-"
      },
      "execution_count": null,
      "outputs": []
    },
    {
      "cell_type": "code",
      "source": [
        "directory = '/content/drive/MyDrive/test_2'\n",
        "for filename in os.listdir(directory):\n",
        "  file_path = os.path.join(directory, filename)\n",
        "  image = cv2.imread(file_path)\n",
        "  if image is None:\n",
        "      continue\n",
        "  plt.figure(figsize=(3, 3))\n",
        "  plt.imshow(image, cmap='gray')  # Ensure it is displayed as grayscale\n",
        "  plt.title(f\"Preprocessed  Image\")\n",
        "  plt.axis('off')\n",
        "  plt.show()\n",
        "\n",
        "  hand_image = process_image(image)"
      ],
      "metadata": {
        "id": "dIniXStau9Cs"
      },
      "execution_count": null,
      "outputs": []
    },
    {
      "cell_type": "code",
      "source": [],
      "metadata": {
        "id": "dMHuiXnbvy7a"
      },
      "execution_count": null,
      "outputs": []
    }
  ]
}