{
 "cells": [
  {
   "cell_type": "code",
   "execution_count": 1,
   "metadata": {},
   "outputs": [],
   "source": [
    "import math"
   ]
  },
  {
   "cell_type": "code",
   "execution_count": 7,
   "metadata": {},
   "outputs": [],
   "source": [
    "l_1 = 13.5\n",
    "l_2 = 12.9"
   ]
  },
  {
   "cell_type": "code",
   "execution_count": 11,
   "metadata": {},
   "outputs": [],
   "source": [
    "def inverse_kinematics(x, y, z):\n",
    "    print(\"Got x y z: \", x, y, z)\n",
    "\n",
    "    # Squared distance\n",
    "    sq_dist = x**2 + y**2\n",
    "\n",
    "    # Find joint angle q2\n",
    "    tmp = (l_1 ** 2) + (l_2 ** 2) - sq_dist\n",
    "    cos_alpha = tmp / (2 * l_1 * l_2)\n",
    "    print(cos_alpha)\n",
    "\n",
    "    alpha = math.acos(cos_alpha)\n",
    "    q_2 = math.pi - alpha\n",
    "\n",
    "    # Find joint angle q1\n",
    "    tmp_2 = math.atan(y/x)\n",
    "    tmp_3 = (l_2 * math.sin(q_2)) / (l_1 + (l_2 * math.cos(q_2)))\n",
    "    tmp_3 = math.atan(tmp_3)\n",
    "\n",
    "    q_1 = tmp_2 - tmp_3\n",
    "\n",
    "    print(\"Found q_1, q_2: \", q_1, q_2)"
   ]
  },
  {
   "cell_type": "code",
   "execution_count": 17,
   "metadata": {},
   "outputs": [
    {
     "name": "stdout",
     "output_type": "stream",
     "text": [
      "Got x y z:  5 0 0\n",
      "0.9292563881711168\n",
      "Found q_1, q_2:  -0.4875846722621058 1\n",
      "Got x y z:  1 0 0\n",
      "0.99816250358886\n",
      "Found q_1, q_2:  -0.4875846722621058 1\n",
      "Got x y z:  0 1 0\n",
      "0.99816250358886\n"
     ]
    },
    {
     "ename": "ZeroDivisionError",
     "evalue": "division by zero",
     "output_type": "error",
     "traceback": [
      "\u001b[0;31m---------------------------------------------------------------------------\u001b[0m",
      "\u001b[0;31mZeroDivisionError\u001b[0m                         Traceback (most recent call last)",
      "Cell \u001b[0;32mIn[17], line 3\u001b[0m\n\u001b[1;32m      1\u001b[0m inverse_kinematics(\u001b[38;5;241m5\u001b[39m, \u001b[38;5;241m0\u001b[39m, \u001b[38;5;241m0\u001b[39m)\n\u001b[1;32m      2\u001b[0m inverse_kinematics(\u001b[38;5;241m1\u001b[39m, \u001b[38;5;241m0\u001b[39m, \u001b[38;5;241m0\u001b[39m)\n\u001b[0;32m----> 3\u001b[0m \u001b[43minverse_kinematics\u001b[49m\u001b[43m(\u001b[49m\u001b[38;5;241;43m0\u001b[39;49m\u001b[43m,\u001b[49m\u001b[43m \u001b[49m\u001b[38;5;241;43m1\u001b[39;49m\u001b[43m,\u001b[49m\u001b[43m \u001b[49m\u001b[38;5;241;43m0\u001b[39;49m\u001b[43m)\u001b[49m\n",
      "Cell \u001b[0;32mIn[11], line 16\u001b[0m, in \u001b[0;36minverse_kinematics\u001b[0;34m(x, y, z)\u001b[0m\n\u001b[1;32m     13\u001b[0m q_2 \u001b[38;5;241m=\u001b[39m \u001b[38;5;241m1\u001b[39m \u001b[38;5;66;03m#math.pi - alpha\u001b[39;00m\n\u001b[1;32m     15\u001b[0m \u001b[38;5;66;03m# Find joint angle q1\u001b[39;00m\n\u001b[0;32m---> 16\u001b[0m tmp_2 \u001b[38;5;241m=\u001b[39m math\u001b[38;5;241m.\u001b[39matan(\u001b[43my\u001b[49m\u001b[38;5;241;43m/\u001b[39;49m\u001b[43mx\u001b[49m)\n\u001b[1;32m     17\u001b[0m tmp_3 \u001b[38;5;241m=\u001b[39m (l_2 \u001b[38;5;241m*\u001b[39m math\u001b[38;5;241m.\u001b[39msin(q_2)) \u001b[38;5;241m/\u001b[39m (l_1 \u001b[38;5;241m+\u001b[39m (l_2 \u001b[38;5;241m*\u001b[39m math\u001b[38;5;241m.\u001b[39mcos(q_2)))\n\u001b[1;32m     18\u001b[0m tmp_3 \u001b[38;5;241m=\u001b[39m math\u001b[38;5;241m.\u001b[39matan(tmp_3)\n",
      "\u001b[0;31mZeroDivisionError\u001b[0m: division by zero"
     ]
    }
   ],
   "source": [
    "inverse_kinematics(5, 0, 0)\n",
    "inverse_kinematics(1, 0, 0)\n",
    "inverse_kinematics(0, 1, 0)"
   ]
  }
 ],
 "metadata": {
  "kernelspec": {
   "display_name": "Python 3",
   "language": "python",
   "name": "python3"
  },
  "language_info": {
   "codemirror_mode": {
    "name": "ipython",
    "version": 3
   },
   "file_extension": ".py",
   "mimetype": "text/x-python",
   "name": "python",
   "nbconvert_exporter": "python",
   "pygments_lexer": "ipython3",
   "version": "3.9.6"
  }
 },
 "nbformat": 4,
 "nbformat_minor": 2
}
